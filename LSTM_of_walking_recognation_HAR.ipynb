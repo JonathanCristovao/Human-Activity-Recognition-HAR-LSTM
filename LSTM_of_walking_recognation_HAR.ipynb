{
  "cells": [
    {
      "cell_type": "markdown",
      "metadata": {
        "id": "view-in-github",
        "colab_type": "text"
      },
      "source": [
        "<a href=\"https://colab.research.google.com/github/JonathanCristovao/Human-Activity-Recognition-HAR-LSTM/blob/main/LSTM_of_walking_recognation_HAR.ipynb\" target=\"_parent\"><img src=\"https://colab.research.google.com/assets/colab-badge.svg\" alt=\"Open In Colab\"/></a>"
      ]
    },
    {
      "cell_type": "markdown",
      "source": [
        "# This notebook was run on google colab"
      ],
      "metadata": {
        "id": "16WhqkwcseIu"
      }
    },
    {
      "cell_type": "code",
      "source": [
        "#from google.colab import drive\n",
        "#drive.mount('/content/drive')"
      ],
      "metadata": {
        "colab": {
          "base_uri": "https://localhost:8080/"
        },
        "id": "_pcRQvKt9r4Q",
        "outputId": "c3df2612-86d9-4106-b781-3993f784ef25"
      },
      "execution_count": null,
      "outputs": [
        {
          "output_type": "stream",
          "name": "stdout",
          "text": [
            "Mounted at /content/drive\n"
          ]
        }
      ]
    },
    {
      "cell_type": "markdown",
      "metadata": {
        "id": "csFMJZEe9I0I"
      },
      "source": [
        "# Import Library"
      ]
    },
    {
      "cell_type": "code",
      "source": [
        "!pip install keras_self_attention"
      ],
      "metadata": {
        "colab": {
          "base_uri": "https://localhost:8080/"
        },
        "id": "Ai6fqg4x9rM9",
        "outputId": "184c99ec-5a11-4410-bd8c-ce523fce4a4b"
      },
      "execution_count": null,
      "outputs": [
        {
          "output_type": "stream",
          "name": "stdout",
          "text": [
            "Looking in indexes: https://pypi.org/simple, https://us-python.pkg.dev/colab-wheels/public/simple/\n",
            "Collecting keras_self_attention\n",
            "  Downloading keras-self-attention-0.51.0.tar.gz (11 kB)\n",
            "Requirement already satisfied: numpy in /usr/local/lib/python3.7/dist-packages (from keras_self_attention) (1.21.6)\n",
            "Building wheels for collected packages: keras-self-attention\n",
            "  Building wheel for keras-self-attention (setup.py) ... \u001b[?25l\u001b[?25hdone\n",
            "  Created wheel for keras-self-attention: filename=keras_self_attention-0.51.0-py3-none-any.whl size=18912 sha256=b5675f3369947a5721d15d0b28aec1fd1fba4fa7d6005dcb7d5eeaa86bd75c10\n",
            "  Stored in directory: /root/.cache/pip/wheels/95/b1/a8/5ee00cc137940b2f6fa198212e8f45d813d0e0d9c3a04035a3\n",
            "Successfully built keras-self-attention\n",
            "Installing collected packages: keras-self-attention\n",
            "Successfully installed keras-self-attention-0.51.0\n"
          ]
        }
      ]
    },
    {
      "cell_type": "code",
      "source": [
        "import pandas as pd\n",
        "import numpy as np\n",
        "import matplotlib.pyplot as plt\n",
        "import seaborn as sns\n",
        "import tensorflow as tf\n",
        "from scipy import stats\n",
        "from sklearn import metrics\n",
        "from sklearn.metrics import classification_report\n",
        "import glob\n",
        "import csv\n",
        "import os\n",
        "%matplotlib inline\n",
        "from keras_self_attention import SeqSelfAttention\n",
        "import warnings\n",
        "warnings.filterwarnings('ignore')"
      ],
      "metadata": {
        "colab": {
          "base_uri": "https://localhost:8080/"
        },
        "id": "_52yqQ6hc560",
        "outputId": "095ed272-f9ac-4361-9bb2-bc03b06bc308"
      },
      "execution_count": null,
      "outputs": [
        {
          "output_type": "stream",
          "name": "stdout",
          "text": [
            "Default GPU Device: /device:GPU:0\n"
          ]
        }
      ]
    },
    {
      "cell_type": "markdown",
      "source": [
        "## The dataset used in this notebook can be downloaded here:\n",
        "[Click here to download the Dataset](https://www.kaggle.com/datasets/jonathansilva2020/dataset-for-human-activity-recognition-har)\n",
        "\n"
      ],
      "metadata": {
        "id": "1-ak4Az0j11p"
      }
    },
    {
      "cell_type": "code",
      "execution_count": null,
      "metadata": {
        "id": "_CZofzgJ9I0K"
      },
      "outputs": [],
      "source": [
        "interesting_dir = \"/content/drive/MyDrive/dataset_artigo_sensores_new\"\n",
        "interesting_labels = ['seated', 'stand','walk']\n",
        "save_filename = \"activity\""
      ]
    },
    {
      "cell_type": "markdown",
      "metadata": {
        "id": "0tddFIoe9I0M"
      },
      "source": [
        "## Concate and label the raw data  "
      ]
    },
    {
      "cell_type": "code",
      "execution_count": null,
      "metadata": {
        "id": "FXYz5psi9I0N"
      },
      "outputs": [],
      "source": [
        "def data_concate_label(path,label):\n",
        "    all_files1 = glob.glob(path + \"/*.csv\")\n",
        "    \n",
        "    li = []\n",
        "\n",
        "    for filename in all_files1:\n",
        "        df = pd.read_csv(filename, index_col=None, header=0)\n",
        "        \n",
        "        if 'label' in df.columns:\n",
        "            pass\n",
        "        else:df['label'] = str(label)\n",
        "        li.append(df)\n",
        "    frame = pd.concat(li, axis=0, ignore_index=True)\n",
        "    if len(df.columns) == 8 :\n",
        "        new_header =['date','time','ID_S','Q_I','Q_J','Q_K','Q_R','label']\n",
        "    \n",
        "    else :\n",
        "       \n",
        "        new_header =['date','time','ID_S','Q_I','Q_J','Q_K','Q_R','label']\n",
        "\n",
        "    frame = frame[:16000]\n",
        "    \n",
        "    print(frame.shape)\n",
        "    print(len(df.columns))\n",
        "    frame.to_csv(\"/content/drive/MyDrive/data/novo_\"+str(label)+\".csv\",index = False,header=new_header)\n",
        "    "
      ]
    },
    {
      "cell_type": "code",
      "execution_count": null,
      "metadata": {
        "colab": {
          "base_uri": "https://localhost:8080/"
        },
        "id": "n-B5PEIQ9I0P",
        "outputId": "c284c7bb-0e1a-41b2-b188-6ce4881ecea1"
      },
      "outputs": [
        {
          "output_type": "stream",
          "name": "stdout",
          "text": [
            "(7267, 8)\n",
            "8\n",
            "(6110, 8)\n",
            "8\n",
            "(4980, 8)\n",
            "8\n"
          ]
        }
      ],
      "source": [
        "path1 = \"/content/drive/MyDrive/dataset_artigo_sensores_new/seated\"\n",
        "label1 = \"seated\"\n",
        "path2 = \"/content/drive/MyDrive/dataset_artigo_sensores_new/stand\"\n",
        "label2 = \"stand\"\n",
        "path3 = \"/content/drive/MyDrive/dataset_artigo_sensores_new/walking\"\n",
        "label3 = \"walk\"\n",
        "data_concate_label(path1,label1)\n",
        "data_concate_label(path2,label2)\n",
        "data_concate_label(path3,label3)"
      ]
    },
    {
      "cell_type": "markdown",
      "metadata": {
        "id": "TGWpUbXX9I0P"
      },
      "source": [
        "## Concate all data into one .csv file"
      ]
    },
    {
      "cell_type": "code",
      "execution_count": null,
      "metadata": {
        "scrolled": false,
        "colab": {
          "base_uri": "https://localhost:8080/",
          "height": 224
        },
        "id": "3jfl5sIf9I0Q",
        "outputId": "b0408d51-aaa5-4df7-bb21-4c34736f4085"
      },
      "outputs": [
        {
          "output_type": "stream",
          "name": "stdout",
          "text": [
            "8\n"
          ]
        },
        {
          "output_type": "execute_result",
          "data": {
            "text/plain": [
              "   ID_S   Q_I   Q_J   Q_K   Q_R   label\n",
              "0     2  0.09  0.02  0.79  0.61  seated\n",
              "1     4  0.02 -0.04  0.73  0.68  seated\n",
              "2     1  0.27  0.58 -0.09  0.77  seated\n",
              "3     3  0.29  0.53 -0.44  0.66  seated\n",
              "4     2  0.09  0.02  0.79  0.61  seated"
            ],
            "text/html": [
              "\n",
              "  <div id=\"df-8c045caf-ad37-411b-94f1-3cc84743d2e0\">\n",
              "    <div class=\"colab-df-container\">\n",
              "      <div>\n",
              "<style scoped>\n",
              "    .dataframe tbody tr th:only-of-type {\n",
              "        vertical-align: middle;\n",
              "    }\n",
              "\n",
              "    .dataframe tbody tr th {\n",
              "        vertical-align: top;\n",
              "    }\n",
              "\n",
              "    .dataframe thead th {\n",
              "        text-align: right;\n",
              "    }\n",
              "</style>\n",
              "<table border=\"1\" class=\"dataframe\">\n",
              "  <thead>\n",
              "    <tr style=\"text-align: right;\">\n",
              "      <th></th>\n",
              "      <th>ID_S</th>\n",
              "      <th>Q_I</th>\n",
              "      <th>Q_J</th>\n",
              "      <th>Q_K</th>\n",
              "      <th>Q_R</th>\n",
              "      <th>label</th>\n",
              "    </tr>\n",
              "  </thead>\n",
              "  <tbody>\n",
              "    <tr>\n",
              "      <th>0</th>\n",
              "      <td>2</td>\n",
              "      <td>0.09</td>\n",
              "      <td>0.02</td>\n",
              "      <td>0.79</td>\n",
              "      <td>0.61</td>\n",
              "      <td>seated</td>\n",
              "    </tr>\n",
              "    <tr>\n",
              "      <th>1</th>\n",
              "      <td>4</td>\n",
              "      <td>0.02</td>\n",
              "      <td>-0.04</td>\n",
              "      <td>0.73</td>\n",
              "      <td>0.68</td>\n",
              "      <td>seated</td>\n",
              "    </tr>\n",
              "    <tr>\n",
              "      <th>2</th>\n",
              "      <td>1</td>\n",
              "      <td>0.27</td>\n",
              "      <td>0.58</td>\n",
              "      <td>-0.09</td>\n",
              "      <td>0.77</td>\n",
              "      <td>seated</td>\n",
              "    </tr>\n",
              "    <tr>\n",
              "      <th>3</th>\n",
              "      <td>3</td>\n",
              "      <td>0.29</td>\n",
              "      <td>0.53</td>\n",
              "      <td>-0.44</td>\n",
              "      <td>0.66</td>\n",
              "      <td>seated</td>\n",
              "    </tr>\n",
              "    <tr>\n",
              "      <th>4</th>\n",
              "      <td>2</td>\n",
              "      <td>0.09</td>\n",
              "      <td>0.02</td>\n",
              "      <td>0.79</td>\n",
              "      <td>0.61</td>\n",
              "      <td>seated</td>\n",
              "    </tr>\n",
              "  </tbody>\n",
              "</table>\n",
              "</div>\n",
              "      <button class=\"colab-df-convert\" onclick=\"convertToInteractive('df-8c045caf-ad37-411b-94f1-3cc84743d2e0')\"\n",
              "              title=\"Convert this dataframe to an interactive table.\"\n",
              "              style=\"display:none;\">\n",
              "        \n",
              "  <svg xmlns=\"http://www.w3.org/2000/svg\" height=\"24px\"viewBox=\"0 0 24 24\"\n",
              "       width=\"24px\">\n",
              "    <path d=\"M0 0h24v24H0V0z\" fill=\"none\"/>\n",
              "    <path d=\"M18.56 5.44l.94 2.06.94-2.06 2.06-.94-2.06-.94-.94-2.06-.94 2.06-2.06.94zm-11 1L8.5 8.5l.94-2.06 2.06-.94-2.06-.94L8.5 2.5l-.94 2.06-2.06.94zm10 10l.94 2.06.94-2.06 2.06-.94-2.06-.94-.94-2.06-.94 2.06-2.06.94z\"/><path d=\"M17.41 7.96l-1.37-1.37c-.4-.4-.92-.59-1.43-.59-.52 0-1.04.2-1.43.59L10.3 9.45l-7.72 7.72c-.78.78-.78 2.05 0 2.83L4 21.41c.39.39.9.59 1.41.59.51 0 1.02-.2 1.41-.59l7.78-7.78 2.81-2.81c.8-.78.8-2.07 0-2.86zM5.41 20L4 18.59l7.72-7.72 1.47 1.35L5.41 20z\"/>\n",
              "  </svg>\n",
              "      </button>\n",
              "      \n",
              "  <style>\n",
              "    .colab-df-container {\n",
              "      display:flex;\n",
              "      flex-wrap:wrap;\n",
              "      gap: 12px;\n",
              "    }\n",
              "\n",
              "    .colab-df-convert {\n",
              "      background-color: #E8F0FE;\n",
              "      border: none;\n",
              "      border-radius: 50%;\n",
              "      cursor: pointer;\n",
              "      display: none;\n",
              "      fill: #1967D2;\n",
              "      height: 32px;\n",
              "      padding: 0 0 0 0;\n",
              "      width: 32px;\n",
              "    }\n",
              "\n",
              "    .colab-df-convert:hover {\n",
              "      background-color: #E2EBFA;\n",
              "      box-shadow: 0px 1px 2px rgba(60, 64, 67, 0.3), 0px 1px 3px 1px rgba(60, 64, 67, 0.15);\n",
              "      fill: #174EA6;\n",
              "    }\n",
              "\n",
              "    [theme=dark] .colab-df-convert {\n",
              "      background-color: #3B4455;\n",
              "      fill: #D2E3FC;\n",
              "    }\n",
              "\n",
              "    [theme=dark] .colab-df-convert:hover {\n",
              "      background-color: #434B5C;\n",
              "      box-shadow: 0px 1px 3px 1px rgba(0, 0, 0, 0.15);\n",
              "      filter: drop-shadow(0px 1px 2px rgba(0, 0, 0, 0.3));\n",
              "      fill: #FFFFFF;\n",
              "    }\n",
              "  </style>\n",
              "\n",
              "      <script>\n",
              "        const buttonEl =\n",
              "          document.querySelector('#df-8c045caf-ad37-411b-94f1-3cc84743d2e0 button.colab-df-convert');\n",
              "        buttonEl.style.display =\n",
              "          google.colab.kernel.accessAllowed ? 'block' : 'none';\n",
              "\n",
              "        async function convertToInteractive(key) {\n",
              "          const element = document.querySelector('#df-8c045caf-ad37-411b-94f1-3cc84743d2e0');\n",
              "          const dataTable =\n",
              "            await google.colab.kernel.invokeFunction('convertToInteractive',\n",
              "                                                     [key], {});\n",
              "          if (!dataTable) return;\n",
              "\n",
              "          const docLinkHtml = 'Like what you see? Visit the ' +\n",
              "            '<a target=\"_blank\" href=https://colab.research.google.com/notebooks/data_table.ipynb>data table notebook</a>'\n",
              "            + ' to learn more about interactive tables.';\n",
              "          element.innerHTML = '';\n",
              "          dataTable['output_type'] = 'display_data';\n",
              "          await google.colab.output.renderOutput(dataTable, element);\n",
              "          const docLink = document.createElement('div');\n",
              "          docLink.innerHTML = docLinkHtml;\n",
              "          element.appendChild(docLink);\n",
              "        }\n",
              "      </script>\n",
              "    </div>\n",
              "  </div>\n",
              "  "
            ]
          },
          "metadata": {},
          "execution_count": 9
        }
      ],
      "source": [
        "import copy\n",
        "\n",
        "df = pd.DataFrame()\n",
        "for i in range(len(interesting_labels)):\n",
        "    df_tmp = pd.read_csv(interesting_dir+\"/\"+save_filename+\"_\"+interesting_labels[i]+'.csv',header = 0)\n",
        "    df = pd.concat([df, df_tmp])\n",
        "print(len(df.columns))\n",
        "\n",
        "drop_list = ['date','time']\n",
        "\n",
        "df = df.drop(drop_list, axis=1)\n",
        "df = df.dropna()\n",
        "\n",
        "all_data_filename = \"total.csv\"\n",
        "df.to_csv(interesting_dir+all_data_filename)\n",
        "\n",
        "df.head()"
      ]
    },
    {
      "cell_type": "markdown",
      "metadata": {
        "id": "pIVWZ7qF9I0S"
      },
      "source": [
        "## Feature correlation "
      ]
    },
    {
      "cell_type": "code",
      "execution_count": null,
      "metadata": {
        "scrolled": true,
        "colab": {
          "base_uri": "https://localhost:8080/"
        },
        "id": "T6lqHghB9I0S",
        "outputId": "11728271-b418-43fb-e76f-1ce81df4361c"
      },
      "outputs": [
        {
          "output_type": "stream",
          "name": "stdout",
          "text": [
            "['ID_S', 'Q_I', 'Q_J', 'Q_K', 'Q_R']\n"
          ]
        },
        {
          "output_type": "execute_result",
          "data": {
            "text/plain": [
              "ID_S    0\n",
              "Q_I     0\n",
              "Q_J     0\n",
              "Q_K     0\n",
              "Q_R     0\n",
              "dtype: int64"
            ]
          },
          "metadata": {},
          "execution_count": 10
        }
      ],
      "source": [
        "df_cor = copy.deepcopy(df) \n",
        "\n",
        "features = df_cor.columns[0:-1]\n",
        "df_cor[\"label\"] = pd.factorize(df_cor.label)[0]\n",
        "traindf = pd.DataFrame(df_cor,columns=features)\n",
        "\n",
        "feature_name = list(traindf.columns)\n",
        "print(feature_name)\n",
        "y = df_cor['label']\n",
        "X = traindf.copy()\n",
        "X.isna().sum()"
      ]
    },
    {
      "cell_type": "code",
      "execution_count": null,
      "metadata": {
        "colab": {
          "base_uri": "https://localhost:8080/",
          "height": 283
        },
        "id": "hK9Au9z29I0T",
        "outputId": "c960a630-3552-47c4-fcc1-268764cabb28"
      },
      "outputs": [
        {
          "output_type": "stream",
          "name": "stdout",
          "text": [
            "[0.08077179 0.16421936 0.20482018 0.23527106 0.31491761]\n"
          ]
        },
        {
          "output_type": "display_data",
          "data": {
            "text/plain": [
              "<Figure size 432x288 with 1 Axes>"
            ],
            "image/png": "[encoded data removed]"
          },
          "metadata": {
            "needs_background": "light"
          }
        }
      ],
      "source": [
        "from sklearn.ensemble import ExtraTreesClassifier\n",
        "import matplotlib.pyplot as plt\n",
        "model = ExtraTreesClassifier()\n",
        "model.fit(X,y)\n",
        "print(model.feature_importances_) \n",
        "#plot graph of feature importances for better visualization\n",
        "feat_importances = pd.Series(model.feature_importances_, index=X.columns)\n",
        "feat_importances.nlargest(10).plot(kind='barh')\n",
        "plt.show()"
      ]
    },
    {
      "cell_type": "code",
      "execution_count": 2,
      "metadata": {
        "scrolled": true,
        "id": "5-HsSboK9I0U"
      },
      "outputs": [],
      "source": [
        "#get correlations of each features in dataset\n",
        "#corrmat = df_cor.corr()\n",
        "#top_corr_features = corrmat.index\n",
        "#plt.figure(figsize=(20,20))\n",
        "#plot heat map\n",
        "#g=sns.heatmap(df_cor[top_corr_features].corr(),annot=True,cmap=\"RdYlGn\")"
      ]
    },
    {
      "cell_type": "code",
      "execution_count": null,
      "metadata": {
        "colab": {
          "base_uri": "https://localhost:8080/"
        },
        "id": "TMpkc4pQ9I0U",
        "outputId": "34bc7de7-3838-4f8d-fc9a-626b5c7acdee"
      },
      "outputs": [
        {
          "output_type": "execute_result",
          "data": {
            "text/plain": [
              "['ID_S', 'Q_I', 'Q_J', 'Q_K', 'Q_R']"
            ]
          },
          "metadata": {},
          "execution_count": 13
        }
      ],
      "source": [
        "num_feats= len(feature_name)\n",
        "X.columns.tolist()"
      ]
    },
    {
      "cell_type": "code",
      "execution_count": null,
      "metadata": {
        "colab": {
          "base_uri": "https://localhost:8080/"
        },
        "id": "Etbf339z9I0V",
        "outputId": "b601bbb3-dd55-4555-a479-d1058bf33ac4"
      },
      "outputs": [
        {
          "output_type": "execute_result",
          "data": {
            "text/plain": [
              "{'ID_S': 1.2412168298060989e-19,\n",
              " 'Q_I': 0.22076947143773396,\n",
              " 'Q_J': 0.2078337620343928,\n",
              " 'Q_K': 0.528879629654535,\n",
              " 'Q_R': 0.4553419160597277}"
            ]
          },
          "metadata": {},
          "execution_count": 14
        }
      ],
      "source": [
        "def cor_selector(X, y,num_feats):\n",
        "    cor_list = []\n",
        "    feature_name = X.columns.tolist()\n",
        "    \n",
        "    # calculate the correlation with y for each feature\n",
        "    for i in X.columns.tolist():\n",
        "        cor = np.corrcoef(X[i], y)[0, 1]\n",
        "        cor_list.append(cor)\n",
        "        \n",
        "    # replace NaN with 0\n",
        "    cor_list = [0 if np.isnan(i) else i for i in cor_list]\n",
        "    \n",
        "    # feature name\n",
        "    cor_feature = X.iloc[:,np.argsort(np.abs(cor_list))[-num_feats:]].columns.tolist()\n",
        "   \n",
        "    # feature selection? 0 for not select, 1 for select\n",
        "    cor_support = [True if i in cor_feature else False for i in feature_name]\n",
        "\n",
        "    return cor_support, cor_feature, cor_list\n",
        "\n",
        "cor_support, cor_feature, cor_list = cor_selector(X, y,num_feats)\n",
        "cor_val=[abs(x) for x in cor_list]\n",
        "cor_result = dict(zip(cor_feature, cor_val))\n",
        "myDict = {key:val for key, val in cor_result.items() if val > 0}\n",
        "{k: v for k, v in sorted(myDict.items(),reverse=True, key=lambda item: item[1])}"
      ]
    },
    {
      "cell_type": "code",
      "execution_count": null,
      "metadata": {
        "id": "qS2rAhS99I0W",
        "colab": {
          "base_uri": "https://localhost:8080/"
        },
        "outputId": "13e929d3-71df-4dcd-eab7-fc7609af0c50"
      },
      "outputs": [
        {
          "output_type": "execute_result",
          "data": {
            "text/plain": [
              "Index(['seated', 'stand', 'walk'], dtype='object')"
            ]
          },
          "metadata": {},
          "execution_count": 15
        }
      ],
      "source": [
        "activities = df['label'].value_counts().index\n",
        "activities"
      ]
    },
    {
      "cell_type": "markdown",
      "metadata": {
        "id": "huRwjGga9I0Z"
      },
      "source": [
        "## Split training and testing data"
      ]
    },
    {
      "cell_type": "code",
      "execution_count": null,
      "metadata": {
        "colab": {
          "base_uri": "https://localhost:8080/"
        },
        "id": "vEqVzdL-9I0Z",
        "outputId": "3d7b03bf-ac8d-47f9-d006-8c0929a94860"
      },
      "outputs": [
        {
          "output_type": "stream",
          "name": "stdout",
          "text": [
            "Number of train samples:  1556\n",
            "Number of test samples:  390\n"
          ]
        }
      ],
      "source": [
        "def train_test_split(label, ratio):\n",
        "    split_point = int(len(df[df.label == label]) * ratio)\n",
        "    return (df[df.label == label].iloc[:split_point, :], df[df.label == label].iloc[split_point:, :])\n",
        "\n",
        "split_ratio = 0.8\n",
        "train_data = pd.DataFrame([])\n",
        "test_data = pd.DataFrame([])\n",
        "\n",
        "for i in range(len(interesting_labels)):\n",
        "    (train, test) = train_test_split(interesting_labels[i], split_ratio)\n",
        "    train_data = pd.concat([train_data, train])\n",
        "    test_data = pd.concat([test_data, test])\n",
        "\n",
        "print(\"Number of train samples: \", len(train_data))\n",
        "print(\"Number of test samples: \", len(test_data))\n",
        "\n",
        "\n",
        "train_label = train_data['label'].to_frame()\n",
        "test_label = test_data['label'].to_frame()"
      ]
    },
    {
      "cell_type": "markdown",
      "metadata": {
        "id": "9ZCSA5xL9I0Z"
      },
      "source": [
        "## Data Segmentation (Sliding Window)"
      ]
    },
    {
      "cell_type": "code",
      "execution_count": null,
      "metadata": {
        "id": "err6EfHS9I0Z"
      },
      "outputs": [],
      "source": [
        "N_TIME_STEPS = 10 #sliding window length 120\n",
        "STEP = 2 # Sliding window step size 20\n",
        "N_FEATURES = 5\n",
        "\n",
        "def generate_sequence(x, y, n_time_steps, step):\n",
        "    \n",
        "    segments = []\n",
        "    labels = []\n",
        "    for i in range(0, len(x) - n_time_steps, step):\n",
        "\n",
        "        ID_S = x['ID_S'].values[i: i + n_time_steps]\n",
        "        Q_I = x['Q_I'].values[i: i + n_time_steps]\n",
        "        Q_J = x['Q_J'].values[i: i + n_time_steps]\n",
        "        Q_K = x['Q_K'].values[i: i + n_time_steps]\n",
        "        Q_R = x['Q_R'].values[i: i + n_time_steps]\n",
        "     \n",
        "        label = stats.mode(y['label'][i: i + n_time_steps])[0][0]\n",
        "        segments.append([ID_S, Q_I, Q_J, Q_K, Q_R])\n",
        "        labels.append(label)\n",
        "        \n",
        "    return segments, labels\n",
        "\n",
        "train_X, train_y = generate_sequence(train_data, train_label, N_TIME_STEPS, STEP)\n",
        "test_X, test_y = generate_sequence(test_data, test_label, N_TIME_STEPS, STEP)"
      ]
    },
    {
      "cell_type": "code",
      "execution_count": null,
      "metadata": {
        "id": "Pt-HNaqG9I0Z"
      },
      "outputs": [],
      "source": [
        "# reshape input segments and one-hot encode labels\n",
        "def reshape_segments(x, y, n_time_steps, n_features):\n",
        "    \n",
        "    x_reshaped = np.asarray(x, dtype= np.float32).reshape(-1, n_time_steps, n_features)\n",
        "    y_reshaped = np.asarray(pd.get_dummies(y), dtype = np.float32)\n",
        "    return x_reshaped, y_reshaped\n",
        "\n",
        "X_train, y_train = reshape_segments(train_X, train_y, N_TIME_STEPS, N_FEATURES)\n",
        "X_test, y_test = reshape_segments(test_X, test_y, N_TIME_STEPS, N_FEATURES)"
      ]
    },
    {
      "cell_type": "code",
      "execution_count": null,
      "metadata": {
        "scrolled": true,
        "id": "jJdwMt1L9I0a"
      },
      "outputs": [],
      "source": [
        "#y_test"
      ]
    },
    {
      "cell_type": "markdown",
      "metadata": {
        "id": "zjlqEMru9I0a"
      },
      "source": [
        "## Import DL Library"
      ]
    },
    {
      "cell_type": "code",
      "execution_count": null,
      "metadata": {
        "id": "PFFl4sX99I0a"
      },
      "outputs": [],
      "source": [
        "from keras.regularizers import l2\n",
        "from keras.models import Sequential, load_model\n",
        "from keras.layers import Dense, LSTM, Flatten, Bidirectional\n",
        "from tensorflow.keras.layers import Attention\n",
        "from keras.layers import Conv2D, MaxPooling2D, Dropout\n",
        "from keras import optimizers\n",
        "from keras import backend as K\n",
        "from tensorflow.python.tools import freeze_graph\n",
        "from tensorflow.python.tools import optimize_for_inference_lib\n",
        "\n",
        "from keras.callbacks import ModelCheckpoint, LearningRateScheduler, TensorBoard, EarlyStopping, ReduceLROnPlateau\n",
        "N_CLASSES = 3\n",
        "L2 = 0.00001"
      ]
    },
    {
      "cell_type": "markdown",
      "metadata": {
        "id": "HYaKUb7w9I0b"
      },
      "source": [
        "## LSTM Model "
      ]
    },
    {
      "cell_type": "code",
      "execution_count": null,
      "metadata": {
        "scrolled": true,
        "colab": {
          "base_uri": "https://localhost:8080/"
        },
        "id": "v2ojrWNt9I0b",
        "outputId": "17e21d4e-5a62-402e-a8d9-656ec0779575"
      },
      "outputs": [
        {
          "output_type": "stream",
          "name": "stdout",
          "text": [
            "Model: \"sequential\"\n",
            "_________________________________________________________________\n",
            " Layer (type)                Output Shape              Param #   \n",
            "=================================================================\n",
            " bidirectional (Bidirectiona  (None, 10, 400)          329600    \n",
            " l)                                                              \n",
            "                                                                 \n",
            " Flatten (Flatten)           (None, 4000)              0         \n",
            "                                                                 \n",
            " Dense_3 (Dense)             (None, 128)               512128    \n",
            "                                                                 \n",
            " dropout (Dropout)           (None, 128)               0         \n",
            "                                                                 \n",
            " Dense_4 (Dense)             (None, 3)                 387       \n",
            "                                                                 \n",
            "=================================================================\n",
            "Total params: 842,115\n",
            "Trainable params: 842,115\n",
            "Non-trainable params: 0\n",
            "_________________________________________________________________\n",
            "Epoch 1/300\n",
            "13/13 [==============================] - ETA: 0s - loss: 0.9642 - accuracy: 0.5990\n",
            "Epoch 1: val_loss improved from inf to 0.97386, saving model to har_model_lstm_2021.h5\n",
            "13/13 [==============================] - 4s 78ms/step - loss: 0.9642 - accuracy: 0.5990 - val_loss: 0.9739 - val_accuracy: 0.4737\n",
            "Epoch 2/300\n",
            " 8/13 [=================>............] - ETA: 0s - loss: 0.6797 - accuracy: 0.6953\n",
            "Epoch 2: val_loss improved from 0.97386 to 0.71728, saving model to har_model_lstm_2021.h5\n",
            "13/13 [==============================] - 0s 15ms/step - loss: 0.6242 - accuracy: 0.7594 - val_loss: 0.7173 - val_accuracy: 0.7947\n",
            "Epoch 3/300\n",
            " 8/13 [=================>............] - ETA: 0s - loss: 0.4248 - accuracy: 0.8574\n",
            "Epoch 3: val_loss improved from 0.71728 to 0.53625, saving model to har_model_lstm_2021.h5\n",
            "13/13 [==============================] - 0s 14ms/step - loss: 0.3971 - accuracy: 0.8771 - val_loss: 0.5362 - val_accuracy: 0.8105\n",
            "Epoch 4/300\n",
            " 8/13 [=================>............] - ETA: 0s - loss: 0.2357 - accuracy: 0.9355\n",
            "Epoch 4: val_loss improved from 0.53625 to 0.51398, saving model to har_model_lstm_2021.h5\n",
            "13/13 [==============================] - 0s 13ms/step - loss: 0.2237 - accuracy: 0.9405 - val_loss: 0.5140 - val_accuracy: 0.7947\n",
            "Epoch 5/300\n",
            " 8/13 [=================>............] - ETA: 0s - loss: 0.2330 - accuracy: 0.9375\n",
            "Epoch 5: val_loss did not improve from 0.51398\n",
            "13/13 [==============================] - 0s 10ms/step - loss: 0.2152 - accuracy: 0.9392 - val_loss: 0.5416 - val_accuracy: 0.8526\n",
            "Epoch 6/300\n",
            " 8/13 [=================>............] - ETA: 0s - loss: 0.1658 - accuracy: 0.9551\n",
            "Epoch 6: val_loss improved from 0.51398 to 0.37076, saving model to har_model_lstm_2021.h5\n",
            "13/13 [==============================] - 0s 14ms/step - loss: 0.1591 - accuracy: 0.9508 - val_loss: 0.3708 - val_accuracy: 0.8947\n",
            "Epoch 7/300\n",
            " 8/13 [=================>............] - ETA: 0s - loss: 0.1390 - accuracy: 0.9648\n",
            "Epoch 7: val_loss improved from 0.37076 to 0.30846, saving model to har_model_lstm_2021.h5\n",
            "13/13 [==============================] - 0s 14ms/step - loss: 0.1187 - accuracy: 0.9715 - val_loss: 0.3085 - val_accuracy: 0.9053\n",
            "Epoch 8/300\n",
            " 8/13 [=================>............] - ETA: 0s - loss: 0.1147 - accuracy: 0.9688\n",
            "Epoch 8: val_loss did not improve from 0.30846\n",
            "13/13 [==============================] - 0s 11ms/step - loss: 0.1077 - accuracy: 0.9715 - val_loss: 0.4874 - val_accuracy: 0.8316\n",
            "Epoch 9/300\n",
            " 8/13 [=================>............] - ETA: 0s - loss: 0.1521 - accuracy: 0.9609\n",
            "Epoch 9: val_loss improved from 0.30846 to 0.25013, saving model to har_model_lstm_2021.h5\n",
            "13/13 [==============================] - 0s 14ms/step - loss: 0.1282 - accuracy: 0.9677 - val_loss: 0.2501 - val_accuracy: 0.8895\n",
            "Epoch 10/300\n",
            " 8/13 [=================>............] - ETA: 0s - loss: 0.1044 - accuracy: 0.9727\n",
            "Epoch 10: val_loss improved from 0.25013 to 0.21640, saving model to har_model_lstm_2021.h5\n",
            "13/13 [==============================] - 0s 14ms/step - loss: 0.1061 - accuracy: 0.9702 - val_loss: 0.2164 - val_accuracy: 0.9263\n",
            "Epoch 11/300\n",
            " 8/13 [=================>............] - ETA: 0s - loss: 0.0734 - accuracy: 0.9883\n",
            "Epoch 11: val_loss did not improve from 0.21640\n",
            "13/13 [==============================] - 0s 11ms/step - loss: 0.0828 - accuracy: 0.9845 - val_loss: 0.3741 - val_accuracy: 0.8895\n",
            "Epoch 12/300\n",
            " 8/13 [=================>............] - ETA: 0s - loss: 0.1942 - accuracy: 0.9238\n",
            "Epoch 12: val_loss did not improve from 0.21640\n",
            "13/13 [==============================] - 0s 11ms/step - loss: 0.1822 - accuracy: 0.9288 - val_loss: 0.3092 - val_accuracy: 0.9579\n",
            "Epoch 13/300\n",
            " 8/13 [=================>............] - ETA: 0s - loss: 0.1197 - accuracy: 0.9746\n",
            "Epoch 13: val_loss improved from 0.21640 to 0.20729, saving model to har_model_lstm_2021.h5\n",
            "13/13 [==============================] - 0s 14ms/step - loss: 0.1179 - accuracy: 0.9690 - val_loss: 0.2073 - val_accuracy: 0.9421\n",
            "Epoch 14/300\n",
            "12/13 [==========================>...] - ETA: 0s - loss: 0.0971 - accuracy: 0.9766\n",
            "Epoch 14: val_loss did not improve from 0.20729\n",
            "13/13 [==============================] - 0s 13ms/step - loss: 0.0971 - accuracy: 0.9767 - val_loss: 0.2417 - val_accuracy: 0.9105\n",
            "Epoch 15/300\n",
            " 7/13 [===============>..............] - ETA: 0s - loss: 0.1029 - accuracy: 0.9688\n",
            "Epoch 15: val_loss did not improve from 0.20729\n",
            "13/13 [==============================] - 0s 11ms/step - loss: 0.0837 - accuracy: 0.9793 - val_loss: 0.5536 - val_accuracy: 0.8579\n",
            "Epoch 16/300\n",
            " 8/13 [=================>............] - ETA: 0s - loss: 0.0974 - accuracy: 0.9707\n",
            "Epoch 16: val_loss did not improve from 0.20729\n",
            "13/13 [==============================] - 0s 11ms/step - loss: 0.0846 - accuracy: 0.9780 - val_loss: 0.2177 - val_accuracy: 0.9158\n",
            "Epoch 17/300\n",
            " 8/13 [=================>............] - ETA: 0s - loss: 0.0627 - accuracy: 0.9844\n",
            "Epoch 17: val_loss improved from 0.20729 to 0.19365, saving model to har_model_lstm_2021.h5\n",
            "13/13 [==============================] - 0s 15ms/step - loss: 0.0656 - accuracy: 0.9845 - val_loss: 0.1936 - val_accuracy: 0.9526\n",
            "Epoch 18/300\n",
            " 8/13 [=================>............] - ETA: 0s - loss: 0.0772 - accuracy: 0.9824\n",
            "Epoch 18: val_loss did not improve from 0.19365\n",
            "13/13 [==============================] - 0s 11ms/step - loss: 0.0734 - accuracy: 0.9858 - val_loss: 0.2397 - val_accuracy: 0.9211\n",
            "Epoch 19/300\n",
            " 8/13 [=================>............] - ETA: 0s - loss: 0.1300 - accuracy: 0.9570\n",
            "Epoch 19: val_loss did not improve from 0.19365\n",
            "13/13 [==============================] - 0s 11ms/step - loss: 0.1268 - accuracy: 0.9573 - val_loss: 0.2717 - val_accuracy: 0.9211\n",
            "Epoch 20/300\n",
            " 8/13 [=================>............] - ETA: 0s - loss: 0.0789 - accuracy: 0.9746\n",
            "Epoch 20: val_loss did not improve from 0.19365\n",
            "13/13 [==============================] - 0s 11ms/step - loss: 0.0801 - accuracy: 0.9741 - val_loss: 0.1975 - val_accuracy: 0.9684\n",
            "Epoch 21/300\n",
            " 7/13 [===============>..............] - ETA: 0s - loss: 0.0908 - accuracy: 0.9777\n",
            "Epoch 21: val_loss improved from 0.19365 to 0.16554, saving model to har_model_lstm_2021.h5\n",
            "13/13 [==============================] - 0s 14ms/step - loss: 0.0897 - accuracy: 0.9780 - val_loss: 0.1655 - val_accuracy: 0.9632\n",
            "Epoch 22/300\n",
            " 8/13 [=================>............] - ETA: 0s - loss: 0.0789 - accuracy: 0.9785\n",
            "Epoch 22: val_loss did not improve from 0.16554\n",
            "13/13 [==============================] - 0s 10ms/step - loss: 0.0692 - accuracy: 0.9832 - val_loss: 0.1838 - val_accuracy: 0.9684\n",
            "Epoch 23/300\n",
            " 8/13 [=================>............] - ETA: 0s - loss: 0.0455 - accuracy: 0.9883\n",
            "Epoch 23: val_loss did not improve from 0.16554\n",
            "13/13 [==============================] - 0s 11ms/step - loss: 0.0491 - accuracy: 0.9871 - val_loss: 0.2015 - val_accuracy: 0.9579\n",
            "Epoch 24/300\n",
            " 8/13 [=================>............] - ETA: 0s - loss: 0.0504 - accuracy: 0.9863\n",
            "Epoch 24: val_loss did not improve from 0.16554\n",
            "13/13 [==============================] - 0s 10ms/step - loss: 0.0455 - accuracy: 0.9884 - val_loss: 0.1839 - val_accuracy: 0.9526\n",
            "Epoch 25/300\n",
            " 8/13 [=================>............] - ETA: 0s - loss: 0.0497 - accuracy: 0.9883\n",
            "Epoch 25: val_loss did not improve from 0.16554\n",
            "13/13 [==============================] - 0s 10ms/step - loss: 0.0493 - accuracy: 0.9884 - val_loss: 0.3489 - val_accuracy: 0.9211\n",
            "Epoch 26/300\n",
            " 8/13 [=================>............] - ETA: 0s - loss: 0.0538 - accuracy: 0.9883\n",
            "Epoch 26: val_loss did not improve from 0.16554\n",
            "13/13 [==============================] - 0s 10ms/step - loss: 0.0581 - accuracy: 0.9858 - val_loss: 0.2040 - val_accuracy: 0.9684\n"
          ]
        }
      ],
      "source": [
        "# LSTM model\n",
        "from keras.backend import clear_session\n",
        "filepath = 'har_model_lstm_2021.h5'\n",
        "\n",
        "clear_session()\n",
        "model = Sequential()\n",
        "model.add(Bidirectional(LSTM(200, return_sequences=True,kernel_initializer='orthogonal',\n",
        "                             kernel_regularizer=l2(L2), recurrent_regularizer=l2(L2),\n",
        "                             bias_regularizer=l2(L2),name=\"LSTM_1\"),\n",
        "                             input_shape=(N_TIME_STEPS, N_FEATURES)))\n",
        "\n",
        "model.add(Flatten(name='Flatten'))\n",
        "model.add(Dense(128, activation='relu', kernel_regularizer=l2(L2), bias_regularizer=l2(L2), name=\"Dense_3\"))\n",
        "model.add(Dropout(0.2))\n",
        "model.add(Dense(N_CLASSES, activation='softmax', kernel_regularizer=l2(L2), bias_regularizer=l2(L2), name=\"Dense_4\"))\n",
        "\n",
        "\n",
        "model.summary()\n",
        "\n",
        "checkpoint = ModelCheckpoint(filepath=filepath,\n",
        "                             monitor='val_loss',\n",
        "                             verbose=1,\n",
        "                             save_best_only=True)\n",
        "stop = EarlyStopping(monitor='val_loss', patience =5,\n",
        "                      verbose=0, mode='auto', baseline=None, \n",
        "                      restore_best_weights=False)\n",
        "reduce =  ReduceLROnPlateau(monitor='val_loss',\n",
        "                    factor=0.5,\n",
        "                    patience=2,\n",
        "                    verbose=1)\n",
        "callbacks = [checkpoint,stop]\n",
        "\n",
        "model.compile(optimizer=\"adam\",loss='categorical_crossentropy',metrics=['accuracy'])\n",
        "\n",
        "BATCH_SIZE =64\n",
        "N_EPOCHS = 300\n",
        "\n",
        "lstm = model.fit(X_train, y_train,\n",
        "          batch_size=BATCH_SIZE, shuffle=True,epochs=N_EPOCHS,callbacks=callbacks,\n",
        "          validation_data=(X_test, y_test))"
      ]
    },
    {
      "cell_type": "code",
      "execution_count": null,
      "metadata": {
        "scrolled": true,
        "colab": {
          "base_uri": "https://localhost:8080/",
          "height": 534
        },
        "id": "nsTDLchI9I0c",
        "outputId": "a4d33f0b-f41d-428c-b9a1-b9e25f8a42f5"
      },
      "outputs": [
        {
          "output_type": "stream",
          "name": "stdout",
          "text": [
            "[0 0 0 0 0 0 0 0 0 0 0 0 0 0 0 0 0 0 0 0 0 0 0 0 0 0 0 0 0 0 0 0 0 0 0 0 0\n",
            " 0 0 0 0 0 0 0 0 0 0 0 0 0 0 0 0 0 0 0 0 0 0 0 0 0 0 0 0 0 0 0 1 1 1 1 1 1\n",
            " 1 1 1 1 1 1 1 1 1 1 1 1 1 1 1 1 1 1 1 1 1 1 1 1 1 1 1 1 1 1 1 1 1 1 1 1 1\n",
            " 1 1 1 1 1 1 1 1 1 1 1 1 1 1 1 1 1 1 1 1 2 2 2 2 2 2 2 2 2 2 2 2 2 2 2 2 2\n",
            " 2 2 2 2 2 2 2 2 2 2 2 2 2 2 2 2 2 2 2 2 2 2 2 2 2 2 2 2 2 2 2 2 2 2 2 2 2\n",
            " 2 2 2 2 2]\n"
          ]
        },
        {
          "output_type": "display_data",
          "data": {
            "text/plain": [
              "<Figure size 576x432 with 2 Axes>"
            ],
            "image/png": "[encoded data removed]"
          },
          "metadata": {}
        }
      ],
      "source": [
        "# use LSTM model to predict\n",
        "\n",
        "y_pred_ohe = model.predict(X_test)\n",
        "y_pred_labels = np.argmax(y_pred_ohe, axis=1)\n",
        "y_true_labels = np.argmax(y_test, axis=1)\n",
        "confusion_matrix = metrics.confusion_matrix(y_true=y_true_labels, y_pred=y_pred_labels)\n",
        "print(y_true_labels)\n",
        "LABELS = ['seated', 'stand','walk']\n",
        "\n",
        "plt.figure(figsize=(8, 6))\n",
        "sns.set(style='whitegrid', palette='muted', font_scale=1.5)\n",
        "sns.heatmap(confusion_matrix, xticklabels=LABELS, yticklabels=LABELS, annot=True, fmt=\"d\");\n",
        "plt.title(\"Confusion matrix\")\n",
        "plt.ylabel('True label')\n",
        "plt.xlabel('Predicted label')\n",
        "plt.show();"
      ]
    },
    {
      "cell_type": "code",
      "source": [
        "predIdxs = model.predict(X_test, batch_size=BATCH_SIZE)\n",
        "predIdxs = np.argmax(predIdxs, axis=1)"
      ],
      "metadata": {
        "id": "36L7EIPbLGa0"
      },
      "execution_count": null,
      "outputs": []
    },
    {
      "cell_type": "code",
      "source": [
        "# show a classification report\n",
        "print(classification_report(y_test.argmax(axis=1), predIdxs,\n",
        "\ttarget_names=['seated', 'stand','walk']))\n"
      ],
      "metadata": {
        "colab": {
          "base_uri": "https://localhost:8080/"
        },
        "id": "3wZSziZzKX2A",
        "outputId": "5a298141-4a46-4431-b05d-9a1db5575ec2"
      },
      "execution_count": null,
      "outputs": [
        {
          "output_type": "stream",
          "name": "stdout",
          "text": [
            "              precision    recall  f1-score   support\n",
            "\n",
            "      seated       1.00      1.00      1.00        68\n",
            "       stand       0.98      0.92      0.95        63\n",
            "        walk       0.92      0.98      0.95        59\n",
            "\n",
            "    accuracy                           0.97       190\n",
            "   macro avg       0.97      0.97      0.97       190\n",
            "weighted avg       0.97      0.97      0.97       190\n",
            "\n"
          ]
        }
      ]
    },
    {
      "cell_type": "code",
      "execution_count": null,
      "metadata": {
        "colab": {
          "base_uri": "https://localhost:8080/",
          "height": 619
        },
        "id": "OaCxG9Un9I0c",
        "outputId": "fe629cd1-96a8-49f2-92a9-c622ee2e84a9"
      },
      "outputs": [
        {
          "output_type": "display_data",
          "data": {
            "text/plain": [
              "<Figure size 432x288 with 1 Axes>"
            ],
            "image/png": "[encoded data removed]"
          },
          "metadata": {}
        },
        {
          "output_type": "display_data",
          "data": {
            "text/plain": [
              "<Figure size 432x288 with 1 Axes>"
            ],
            "image/png": "[encoded data removed]"
          },
          "metadata": {}
        }
      ],
      "source": [
        "plt.plot(lstm.history['accuracy'])\n",
        "plt.plot(lstm.history['val_accuracy'])\n",
        "plt.title('model accuracy')\n",
        "plt.ylabel('accuracy')\n",
        "plt.xlabel('epoch')\n",
        "plt.ylim(0,1)\n",
        "plt.legend(['train', 'val'], loc='best')\n",
        "plt.show()\n",
        "\n",
        "plt.plot(lstm.history['loss'])\n",
        "plt.plot(lstm.history['val_loss'])\n",
        "plt.title('model loss')\n",
        "plt.ylabel('loss')\n",
        "plt.xlabel('epoch')\n",
        "plt.legend(['train', 'val'], loc='best')\n",
        "plt.show()"
      ]
    },
    {
      "cell_type": "markdown",
      "metadata": {
        "id": "ez0TA6im9I0d"
      },
      "source": [
        "## Save the model into .pb file"
      ]
    },
    {
      "cell_type": "code",
      "source": [
        "# Save LSTM model\n",
        "\n",
        "output_node_name = \"Dense_2/Softmax\"\n",
        "MODEL_LSTM = str(N_TIME_STEPS)+\"_\"+str(STEP)+\"_\"+str(N_FEATURES)+\"_\"+str(N_CLASSES)+\"_nomagnew\"\n",
        "\n",
        "tf.train.write_graph(K.get_session().graph_def, './models/LSTM/', \\\n",
        "        MODEL_LSTM + '_graph.pbtxt')\n",
        "saver = tf.train.Saver()\n",
        "saver.save(K.get_session(), './models/LSTM/' + MODEL_LSTM + '.chkp')\n",
        "\n",
        "freeze_graph.freeze_graph('./models/LSTM/' +MODEL_LSTM+ '_graph.pbtxt', None, \\\n",
        "    False, './models/LSTM/' + MODEL_LSTM+ '.chkp', output_node_name, \\\n",
        "    \"save/restore_all\", \"save/Const:0\", \\\n",
        "    './models/LSTM/' +MODEL_LSTM + '.pb', True, \"\")"
      ],
      "metadata": {
        "id": "IE2brr6tuFHc"
      },
      "execution_count": null,
      "outputs": []
    }
  ],
  "metadata": {
    "kernelspec": {
      "display_name": "Python 3",
      "language": "python",
      "name": "python3"
    },
    "language_info": {
      "codemirror_mode": {
        "name": "ipython",
        "version": 3
      },
      "file_extension": ".py",
      "mimetype": "text/x-python",
      "name": "python",
      "nbconvert_exporter": "python",
      "pygments_lexer": "ipython3",
      "version": "3.7.6"
    },
    "colab": {
      "name": "LSTM-of-walking-recognation-HAR.ipynb",
      "provenance": [],
      "collapsed_sections": [
        "W_yDaJYp9I0e",
        "5V9KtZTL9I0f",
        "yx68gznJ9I0g",
        "io__bqmJ9I0h"
      ],
      "include_colab_link": true
    },
    "accelerator": "GPU",
    "gpuClass": "standard"
  },
  "nbformat": 4,
  "nbformat_minor": 0
}